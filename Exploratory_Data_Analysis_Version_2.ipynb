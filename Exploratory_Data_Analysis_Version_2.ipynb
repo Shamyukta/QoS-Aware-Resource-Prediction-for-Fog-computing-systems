{
  "nbformat": 4,
  "nbformat_minor": 0,
  "metadata": {
    "colab": {
      "provenance": []
    },
    "kernelspec": {
      "name": "python3",
      "display_name": "Python 3"
    },
    "language_info": {
      "name": "python"
    }
  },
  "cells": [
    {
      "cell_type": "markdown",
      "source": [
        "Importing Libraries"
      ],
      "metadata": {
        "id": "ZWo4H421PJDx"
      }
    },
    {
      "cell_type": "code",
      "execution_count": null,
      "metadata": {
        "id": "bdEWUCXPIR4_"
      },
      "outputs": [],
      "source": [
        "import pandas as pd\n",
        "import numpy as np\n",
        "import seaborn as sns\n",
        "import matplotlib.pyplot as plt\n",
        "%matplotlib inline"
      ]
    },
    {
      "cell_type": "markdown",
      "source": [
        "Loading Dataset"
      ],
      "metadata": {
        "id": "mvMw0pY1PR_p"
      }
    },
    {
      "cell_type": "code",
      "source": [
        "data = pd.read_csv('/content/task event.csv')\n",
        "data.head()"
      ],
      "metadata": {
        "colab": {
          "base_uri": "https://localhost:8080/",
          "height": 305
        },
        "id": "VF5p83ZePUJn",
        "outputId": "7129f992-e0a3-4081-f372-bd2e4f7b22dc"
      },
      "execution_count": null,
      "outputs": [
        {
          "output_type": "execute_result",
          "data": {
            "text/plain": [
              "         time  missing info      job ID  task index   machine ID  event type  \\\n",
              "0  5611824441           NaN  6251812952        1761    1306108.0           4   \n",
              "1  5611824625           NaN  6251974185         252   38676295.0           4   \n",
              "2  5612587437           NaN  6251995937          33  386450501.0           2   \n",
              "3  5612587446           NaN  6251995937          33          NaN           0   \n",
              "4  5612608285           NaN  6221861800       15930    7777379.0           2   \n",
              "\n",
              "                                           user  scheduling class  priority  \\\n",
              "0  fJYeclskJqPWsAT6TX/r9X5OiIZpSEb2PBGliYAOMxM=                 0         2   \n",
              "1  fJYeclskJqPWsAT6TX/r9X5OiIZpSEb2PBGliYAOMxM=                 0         2   \n",
              "2  4Ubmtvv/epOnUEgegvGV9mCxxcZkV4z/Dm8RY/9SEYw=                 0         0   \n",
              "3  4Ubmtvv/epOnUEgegvGV9mCxxcZkV4z/Dm8RY/9SEYw=                 0         0   \n",
              "4  huEqgBuTsgIbw1KmYjIUw/N6rUCEeIqRUY51E4M8icU=                 0         0   \n",
              "\n",
              "   CPU request  memory request  disk space request  \\\n",
              "0      0.02499         0.07959            0.000386   \n",
              "1      0.02499         0.03339            0.000386   \n",
              "2      0.06873         0.01193            0.000115   \n",
              "3      0.06873         0.01193            0.000115   \n",
              "4      0.01250         0.01590            0.000404   \n",
              "\n",
              "   different machines restriction  \n",
              "0                               1  \n",
              "1                               1  \n",
              "2                               0  \n",
              "3                               0  \n",
              "4                               0  "
            ],
            "text/html": [
              "\n",
              "  <div id=\"df-eea87f3d-0381-4e48-bcd0-1903d2be5069\">\n",
              "    <div class=\"colab-df-container\">\n",
              "      <div>\n",
              "<style scoped>\n",
              "    .dataframe tbody tr th:only-of-type {\n",
              "        vertical-align: middle;\n",
              "    }\n",
              "\n",
              "    .dataframe tbody tr th {\n",
              "        vertical-align: top;\n",
              "    }\n",
              "\n",
              "    .dataframe thead th {\n",
              "        text-align: right;\n",
              "    }\n",
              "</style>\n",
              "<table border=\"1\" class=\"dataframe\">\n",
              "  <thead>\n",
              "    <tr style=\"text-align: right;\">\n",
              "      <th></th>\n",
              "      <th>time</th>\n",
              "      <th>missing info</th>\n",
              "      <th>job ID</th>\n",
              "      <th>task index</th>\n",
              "      <th>machine ID</th>\n",
              "      <th>event type</th>\n",
              "      <th>user</th>\n",
              "      <th>scheduling class</th>\n",
              "      <th>priority</th>\n",
              "      <th>CPU request</th>\n",
              "      <th>memory request</th>\n",
              "      <th>disk space request</th>\n",
              "      <th>different machines restriction</th>\n",
              "    </tr>\n",
              "  </thead>\n",
              "  <tbody>\n",
              "    <tr>\n",
              "      <th>0</th>\n",
              "      <td>5611824441</td>\n",
              "      <td>NaN</td>\n",
              "      <td>6251812952</td>\n",
              "      <td>1761</td>\n",
              "      <td>1306108.0</td>\n",
              "      <td>4</td>\n",
              "      <td>fJYeclskJqPWsAT6TX/r9X5OiIZpSEb2PBGliYAOMxM=</td>\n",
              "      <td>0</td>\n",
              "      <td>2</td>\n",
              "      <td>0.02499</td>\n",
              "      <td>0.07959</td>\n",
              "      <td>0.000386</td>\n",
              "      <td>1</td>\n",
              "    </tr>\n",
              "    <tr>\n",
              "      <th>1</th>\n",
              "      <td>5611824625</td>\n",
              "      <td>NaN</td>\n",
              "      <td>6251974185</td>\n",
              "      <td>252</td>\n",
              "      <td>38676295.0</td>\n",
              "      <td>4</td>\n",
              "      <td>fJYeclskJqPWsAT6TX/r9X5OiIZpSEb2PBGliYAOMxM=</td>\n",
              "      <td>0</td>\n",
              "      <td>2</td>\n",
              "      <td>0.02499</td>\n",
              "      <td>0.03339</td>\n",
              "      <td>0.000386</td>\n",
              "      <td>1</td>\n",
              "    </tr>\n",
              "    <tr>\n",
              "      <th>2</th>\n",
              "      <td>5612587437</td>\n",
              "      <td>NaN</td>\n",
              "      <td>6251995937</td>\n",
              "      <td>33</td>\n",
              "      <td>386450501.0</td>\n",
              "      <td>2</td>\n",
              "      <td>4Ubmtvv/epOnUEgegvGV9mCxxcZkV4z/Dm8RY/9SEYw=</td>\n",
              "      <td>0</td>\n",
              "      <td>0</td>\n",
              "      <td>0.06873</td>\n",
              "      <td>0.01193</td>\n",
              "      <td>0.000115</td>\n",
              "      <td>0</td>\n",
              "    </tr>\n",
              "    <tr>\n",
              "      <th>3</th>\n",
              "      <td>5612587446</td>\n",
              "      <td>NaN</td>\n",
              "      <td>6251995937</td>\n",
              "      <td>33</td>\n",
              "      <td>NaN</td>\n",
              "      <td>0</td>\n",
              "      <td>4Ubmtvv/epOnUEgegvGV9mCxxcZkV4z/Dm8RY/9SEYw=</td>\n",
              "      <td>0</td>\n",
              "      <td>0</td>\n",
              "      <td>0.06873</td>\n",
              "      <td>0.01193</td>\n",
              "      <td>0.000115</td>\n",
              "      <td>0</td>\n",
              "    </tr>\n",
              "    <tr>\n",
              "      <th>4</th>\n",
              "      <td>5612608285</td>\n",
              "      <td>NaN</td>\n",
              "      <td>6221861800</td>\n",
              "      <td>15930</td>\n",
              "      <td>7777379.0</td>\n",
              "      <td>2</td>\n",
              "      <td>huEqgBuTsgIbw1KmYjIUw/N6rUCEeIqRUY51E4M8icU=</td>\n",
              "      <td>0</td>\n",
              "      <td>0</td>\n",
              "      <td>0.01250</td>\n",
              "      <td>0.01590</td>\n",
              "      <td>0.000404</td>\n",
              "      <td>0</td>\n",
              "    </tr>\n",
              "  </tbody>\n",
              "</table>\n",
              "</div>\n",
              "      <button class=\"colab-df-convert\" onclick=\"convertToInteractive('df-eea87f3d-0381-4e48-bcd0-1903d2be5069')\"\n",
              "              title=\"Convert this dataframe to an interactive table.\"\n",
              "              style=\"display:none;\">\n",
              "        \n",
              "  <svg xmlns=\"http://www.w3.org/2000/svg\" height=\"24px\"viewBox=\"0 0 24 24\"\n",
              "       width=\"24px\">\n",
              "    <path d=\"M0 0h24v24H0V0z\" fill=\"none\"/>\n",
              "    <path d=\"M18.56 5.44l.94 2.06.94-2.06 2.06-.94-2.06-.94-.94-2.06-.94 2.06-2.06.94zm-11 1L8.5 8.5l.94-2.06 2.06-.94-2.06-.94L8.5 2.5l-.94 2.06-2.06.94zm10 10l.94 2.06.94-2.06 2.06-.94-2.06-.94-.94-2.06-.94 2.06-2.06.94z\"/><path d=\"M17.41 7.96l-1.37-1.37c-.4-.4-.92-.59-1.43-.59-.52 0-1.04.2-1.43.59L10.3 9.45l-7.72 7.72c-.78.78-.78 2.05 0 2.83L4 21.41c.39.39.9.59 1.41.59.51 0 1.02-.2 1.41-.59l7.78-7.78 2.81-2.81c.8-.78.8-2.07 0-2.86zM5.41 20L4 18.59l7.72-7.72 1.47 1.35L5.41 20z\"/>\n",
              "  </svg>\n",
              "      </button>\n",
              "      \n",
              "  <style>\n",
              "    .colab-df-container {\n",
              "      display:flex;\n",
              "      flex-wrap:wrap;\n",
              "      gap: 12px;\n",
              "    }\n",
              "\n",
              "    .colab-df-convert {\n",
              "      background-color: #E8F0FE;\n",
              "      border: none;\n",
              "      border-radius: 50%;\n",
              "      cursor: pointer;\n",
              "      display: none;\n",
              "      fill: #1967D2;\n",
              "      height: 32px;\n",
              "      padding: 0 0 0 0;\n",
              "      width: 32px;\n",
              "    }\n",
              "\n",
              "    .colab-df-convert:hover {\n",
              "      background-color: #E2EBFA;\n",
              "      box-shadow: 0px 1px 2px rgba(60, 64, 67, 0.3), 0px 1px 3px 1px rgba(60, 64, 67, 0.15);\n",
              "      fill: #174EA6;\n",
              "    }\n",
              "\n",
              "    [theme=dark] .colab-df-convert {\n",
              "      background-color: #3B4455;\n",
              "      fill: #D2E3FC;\n",
              "    }\n",
              "\n",
              "    [theme=dark] .colab-df-convert:hover {\n",
              "      background-color: #434B5C;\n",
              "      box-shadow: 0px 1px 3px 1px rgba(0, 0, 0, 0.15);\n",
              "      filter: drop-shadow(0px 1px 2px rgba(0, 0, 0, 0.3));\n",
              "      fill: #FFFFFF;\n",
              "    }\n",
              "  </style>\n",
              "\n",
              "      <script>\n",
              "        const buttonEl =\n",
              "          document.querySelector('#df-eea87f3d-0381-4e48-bcd0-1903d2be5069 button.colab-df-convert');\n",
              "        buttonEl.style.display =\n",
              "          google.colab.kernel.accessAllowed ? 'block' : 'none';\n",
              "\n",
              "        async function convertToInteractive(key) {\n",
              "          const element = document.querySelector('#df-eea87f3d-0381-4e48-bcd0-1903d2be5069');\n",
              "          const dataTable =\n",
              "            await google.colab.kernel.invokeFunction('convertToInteractive',\n",
              "                                                     [key], {});\n",
              "          if (!dataTable) return;\n",
              "\n",
              "          const docLinkHtml = 'Like what you see? Visit the ' +\n",
              "            '<a target=\"_blank\" href=https://colab.research.google.com/notebooks/data_table.ipynb>data table notebook</a>'\n",
              "            + ' to learn more about interactive tables.';\n",
              "          element.innerHTML = '';\n",
              "          dataTable['output_type'] = 'display_data';\n",
              "          await google.colab.output.renderOutput(dataTable, element);\n",
              "          const docLink = document.createElement('div');\n",
              "          docLink.innerHTML = docLinkHtml;\n",
              "          element.appendChild(docLink);\n",
              "        }\n",
              "      </script>\n",
              "    </div>\n",
              "  </div>\n",
              "  "
            ]
          },
          "metadata": {},
          "execution_count": 2
        }
      ]
    },
    {
      "cell_type": "code",
      "source": [
        "data.tail()"
      ],
      "metadata": {
        "colab": {
          "base_uri": "https://localhost:8080/",
          "height": 305
        },
        "id": "d8XtGKBCPeXH",
        "outputId": "a4bd79bd-129c-49f2-d592-e8d63e4b63d7"
      },
      "execution_count": null,
      "outputs": [
        {
          "output_type": "execute_result",
          "data": {
            "text/plain": [
              "              time  missing info      job ID  task index    machine ID  \\\n",
              "77771  10622388020           NaN   515042954          12           NaN   \n",
              "77772  10622388025           NaN  4392480606          45  4.820184e+09   \n",
              "77773  10622388028           NaN  4392480606          45           NaN   \n",
              "77774  10622388143           NaN  6249153835          10  3.251994e+09   \n",
              "77775  10622388150           NaN  6249153835          10           NaN   \n",
              "\n",
              "       event type                                          user  \\\n",
              "77771           0  /fk1fVcVxZ6iM6gHZzqbIyq56m5zrmHfpdcZ/zzkq4c=   \n",
              "77772           5  XXdY557FQk791swgplLkVfyX7Vr1lIHuSKR+pnbZWR8=   \n",
              "77773           0  XXdY557FQk791swgplLkVfyX7Vr1lIHuSKR+pnbZWR8=   \n",
              "77774           2  Q/WF/++kNe3VwGgx/38jaqIHl1nGn6abu1bZUzaFJ6U=   \n",
              "77775           0  Q/WF/++kNe3VwGgx/38jaqIHl1nGn6abu1bZUzaFJ6U=   \n",
              "\n",
              "       scheduling class  priority  CPU request  memory request  \\\n",
              "77771                 2         0       0.1156        0.020970   \n",
              "77772                 2         0       0.0625        0.063350   \n",
              "77773                 2         0       0.0625        0.063350   \n",
              "77774                 0         0       0.2505        0.001554   \n",
              "77775                 0         0       0.2505        0.001554   \n",
              "\n",
              "       disk space request  different machines restriction  \n",
              "77771            0.000106                               0  \n",
              "77772            0.000077                               1  \n",
              "77773            0.000077                               1  \n",
              "77774            0.000004                               0  \n",
              "77775            0.000004                               0  "
            ],
            "text/html": [
              "\n",
              "  <div id=\"df-794e54f4-f9fb-45db-9e6e-06722239d56d\">\n",
              "    <div class=\"colab-df-container\">\n",
              "      <div>\n",
              "<style scoped>\n",
              "    .dataframe tbody tr th:only-of-type {\n",
              "        vertical-align: middle;\n",
              "    }\n",
              "\n",
              "    .dataframe tbody tr th {\n",
              "        vertical-align: top;\n",
              "    }\n",
              "\n",
              "    .dataframe thead th {\n",
              "        text-align: right;\n",
              "    }\n",
              "</style>\n",
              "<table border=\"1\" class=\"dataframe\">\n",
              "  <thead>\n",
              "    <tr style=\"text-align: right;\">\n",
              "      <th></th>\n",
              "      <th>time</th>\n",
              "      <th>missing info</th>\n",
              "      <th>job ID</th>\n",
              "      <th>task index</th>\n",
              "      <th>machine ID</th>\n",
              "      <th>event type</th>\n",
              "      <th>user</th>\n",
              "      <th>scheduling class</th>\n",
              "      <th>priority</th>\n",
              "      <th>CPU request</th>\n",
              "      <th>memory request</th>\n",
              "      <th>disk space request</th>\n",
              "      <th>different machines restriction</th>\n",
              "    </tr>\n",
              "  </thead>\n",
              "  <tbody>\n",
              "    <tr>\n",
              "      <th>77771</th>\n",
              "      <td>10622388020</td>\n",
              "      <td>NaN</td>\n",
              "      <td>515042954</td>\n",
              "      <td>12</td>\n",
              "      <td>NaN</td>\n",
              "      <td>0</td>\n",
              "      <td>/fk1fVcVxZ6iM6gHZzqbIyq56m5zrmHfpdcZ/zzkq4c=</td>\n",
              "      <td>2</td>\n",
              "      <td>0</td>\n",
              "      <td>0.1156</td>\n",
              "      <td>0.020970</td>\n",
              "      <td>0.000106</td>\n",
              "      <td>0</td>\n",
              "    </tr>\n",
              "    <tr>\n",
              "      <th>77772</th>\n",
              "      <td>10622388025</td>\n",
              "      <td>NaN</td>\n",
              "      <td>4392480606</td>\n",
              "      <td>45</td>\n",
              "      <td>4.820184e+09</td>\n",
              "      <td>5</td>\n",
              "      <td>XXdY557FQk791swgplLkVfyX7Vr1lIHuSKR+pnbZWR8=</td>\n",
              "      <td>2</td>\n",
              "      <td>0</td>\n",
              "      <td>0.0625</td>\n",
              "      <td>0.063350</td>\n",
              "      <td>0.000077</td>\n",
              "      <td>1</td>\n",
              "    </tr>\n",
              "    <tr>\n",
              "      <th>77773</th>\n",
              "      <td>10622388028</td>\n",
              "      <td>NaN</td>\n",
              "      <td>4392480606</td>\n",
              "      <td>45</td>\n",
              "      <td>NaN</td>\n",
              "      <td>0</td>\n",
              "      <td>XXdY557FQk791swgplLkVfyX7Vr1lIHuSKR+pnbZWR8=</td>\n",
              "      <td>2</td>\n",
              "      <td>0</td>\n",
              "      <td>0.0625</td>\n",
              "      <td>0.063350</td>\n",
              "      <td>0.000077</td>\n",
              "      <td>1</td>\n",
              "    </tr>\n",
              "    <tr>\n",
              "      <th>77774</th>\n",
              "      <td>10622388143</td>\n",
              "      <td>NaN</td>\n",
              "      <td>6249153835</td>\n",
              "      <td>10</td>\n",
              "      <td>3.251994e+09</td>\n",
              "      <td>2</td>\n",
              "      <td>Q/WF/++kNe3VwGgx/38jaqIHl1nGn6abu1bZUzaFJ6U=</td>\n",
              "      <td>0</td>\n",
              "      <td>0</td>\n",
              "      <td>0.2505</td>\n",
              "      <td>0.001554</td>\n",
              "      <td>0.000004</td>\n",
              "      <td>0</td>\n",
              "    </tr>\n",
              "    <tr>\n",
              "      <th>77775</th>\n",
              "      <td>10622388150</td>\n",
              "      <td>NaN</td>\n",
              "      <td>6249153835</td>\n",
              "      <td>10</td>\n",
              "      <td>NaN</td>\n",
              "      <td>0</td>\n",
              "      <td>Q/WF/++kNe3VwGgx/38jaqIHl1nGn6abu1bZUzaFJ6U=</td>\n",
              "      <td>0</td>\n",
              "      <td>0</td>\n",
              "      <td>0.2505</td>\n",
              "      <td>0.001554</td>\n",
              "      <td>0.000004</td>\n",
              "      <td>0</td>\n",
              "    </tr>\n",
              "  </tbody>\n",
              "</table>\n",
              "</div>\n",
              "      <button class=\"colab-df-convert\" onclick=\"convertToInteractive('df-794e54f4-f9fb-45db-9e6e-06722239d56d')\"\n",
              "              title=\"Convert this dataframe to an interactive table.\"\n",
              "              style=\"display:none;\">\n",
              "        \n",
              "  <svg xmlns=\"http://www.w3.org/2000/svg\" height=\"24px\"viewBox=\"0 0 24 24\"\n",
              "       width=\"24px\">\n",
              "    <path d=\"M0 0h24v24H0V0z\" fill=\"none\"/>\n",
              "    <path d=\"M18.56 5.44l.94 2.06.94-2.06 2.06-.94-2.06-.94-.94-2.06-.94 2.06-2.06.94zm-11 1L8.5 8.5l.94-2.06 2.06-.94-2.06-.94L8.5 2.5l-.94 2.06-2.06.94zm10 10l.94 2.06.94-2.06 2.06-.94-2.06-.94-.94-2.06-.94 2.06-2.06.94z\"/><path d=\"M17.41 7.96l-1.37-1.37c-.4-.4-.92-.59-1.43-.59-.52 0-1.04.2-1.43.59L10.3 9.45l-7.72 7.72c-.78.78-.78 2.05 0 2.83L4 21.41c.39.39.9.59 1.41.59.51 0 1.02-.2 1.41-.59l7.78-7.78 2.81-2.81c.8-.78.8-2.07 0-2.86zM5.41 20L4 18.59l7.72-7.72 1.47 1.35L5.41 20z\"/>\n",
              "  </svg>\n",
              "      </button>\n",
              "      \n",
              "  <style>\n",
              "    .colab-df-container {\n",
              "      display:flex;\n",
              "      flex-wrap:wrap;\n",
              "      gap: 12px;\n",
              "    }\n",
              "\n",
              "    .colab-df-convert {\n",
              "      background-color: #E8F0FE;\n",
              "      border: none;\n",
              "      border-radius: 50%;\n",
              "      cursor: pointer;\n",
              "      display: none;\n",
              "      fill: #1967D2;\n",
              "      height: 32px;\n",
              "      padding: 0 0 0 0;\n",
              "      width: 32px;\n",
              "    }\n",
              "\n",
              "    .colab-df-convert:hover {\n",
              "      background-color: #E2EBFA;\n",
              "      box-shadow: 0px 1px 2px rgba(60, 64, 67, 0.3), 0px 1px 3px 1px rgba(60, 64, 67, 0.15);\n",
              "      fill: #174EA6;\n",
              "    }\n",
              "\n",
              "    [theme=dark] .colab-df-convert {\n",
              "      background-color: #3B4455;\n",
              "      fill: #D2E3FC;\n",
              "    }\n",
              "\n",
              "    [theme=dark] .colab-df-convert:hover {\n",
              "      background-color: #434B5C;\n",
              "      box-shadow: 0px 1px 3px 1px rgba(0, 0, 0, 0.15);\n",
              "      filter: drop-shadow(0px 1px 2px rgba(0, 0, 0, 0.3));\n",
              "      fill: #FFFFFF;\n",
              "    }\n",
              "  </style>\n",
              "\n",
              "      <script>\n",
              "        const buttonEl =\n",
              "          document.querySelector('#df-794e54f4-f9fb-45db-9e6e-06722239d56d button.colab-df-convert');\n",
              "        buttonEl.style.display =\n",
              "          google.colab.kernel.accessAllowed ? 'block' : 'none';\n",
              "\n",
              "        async function convertToInteractive(key) {\n",
              "          const element = document.querySelector('#df-794e54f4-f9fb-45db-9e6e-06722239d56d');\n",
              "          const dataTable =\n",
              "            await google.colab.kernel.invokeFunction('convertToInteractive',\n",
              "                                                     [key], {});\n",
              "          if (!dataTable) return;\n",
              "\n",
              "          const docLinkHtml = 'Like what you see? Visit the ' +\n",
              "            '<a target=\"_blank\" href=https://colab.research.google.com/notebooks/data_table.ipynb>data table notebook</a>'\n",
              "            + ' to learn more about interactive tables.';\n",
              "          element.innerHTML = '';\n",
              "          dataTable['output_type'] = 'display_data';\n",
              "          await google.colab.output.renderOutput(dataTable, element);\n",
              "          const docLink = document.createElement('div');\n",
              "          docLink.innerHTML = docLinkHtml;\n",
              "          element.appendChild(docLink);\n",
              "        }\n",
              "      </script>\n",
              "    </div>\n",
              "  </div>\n",
              "  "
            ]
          },
          "metadata": {},
          "execution_count": 3
        }
      ]
    },
    {
      "cell_type": "markdown",
      "source": [
        "Data insights"
      ],
      "metadata": {
        "id": "quU-DFyePlHf"
      }
    },
    {
      "cell_type": "code",
      "source": [
        "data.shape"
      ],
      "metadata": {
        "colab": {
          "base_uri": "https://localhost:8080/"
        },
        "id": "Rhf3nkZHPoRv",
        "outputId": "b6265de0-7045-4bd3-8859-8f0a316b32c5"
      },
      "execution_count": null,
      "outputs": [
        {
          "output_type": "execute_result",
          "data": {
            "text/plain": [
              "(77776, 13)"
            ]
          },
          "metadata": {},
          "execution_count": 4
        }
      ]
    },
    {
      "cell_type": "code",
      "source": [
        "data.columns.values"
      ],
      "metadata": {
        "colab": {
          "base_uri": "https://localhost:8080/"
        },
        "id": "ty5dEqjbPwhI",
        "outputId": "366cc5a4-3895-4d60-bc2d-2ac9cfc0d24a"
      },
      "execution_count": null,
      "outputs": [
        {
          "output_type": "execute_result",
          "data": {
            "text/plain": [
              "array(['time', 'missing info', 'job ID', 'task index', 'machine ID',\n",
              "       'event type', 'user', 'scheduling class', 'priority',\n",
              "       'CPU request', 'memory request', 'disk space request',\n",
              "       'different machines restriction'], dtype=object)"
            ]
          },
          "metadata": {},
          "execution_count": 5
        }
      ]
    },
    {
      "cell_type": "code",
      "source": [
        "data.info()"
      ],
      "metadata": {
        "colab": {
          "base_uri": "https://localhost:8080/"
        },
        "id": "Et6TDdrkPz-3",
        "outputId": "5b2668ec-242a-4aa2-eeac-7532003bd239"
      },
      "execution_count": null,
      "outputs": [
        {
          "output_type": "stream",
          "name": "stdout",
          "text": [
            "<class 'pandas.core.frame.DataFrame'>\n",
            "RangeIndex: 77776 entries, 0 to 77775\n",
            "Data columns (total 13 columns):\n",
            " #   Column                          Non-Null Count  Dtype  \n",
            "---  ------                          --------------  -----  \n",
            " 0   time                            77776 non-null  int64  \n",
            " 1   missing info                    0 non-null      float64\n",
            " 2   job ID                          77776 non-null  int64  \n",
            " 3   task index                      77776 non-null  int64  \n",
            " 4   machine ID                      46819 non-null  float64\n",
            " 5   event type                      77776 non-null  int64  \n",
            " 6   user                            77776 non-null  object \n",
            " 7   scheduling class                77776 non-null  int64  \n",
            " 8   priority                        77776 non-null  int64  \n",
            " 9   CPU request                     77776 non-null  float64\n",
            " 10  memory request                  77776 non-null  float64\n",
            " 11  disk space request              77776 non-null  float64\n",
            " 12  different machines restriction  77776 non-null  int64  \n",
            "dtypes: float64(5), int64(7), object(1)\n",
            "memory usage: 7.7+ MB\n"
          ]
        }
      ]
    },
    {
      "cell_type": "markdown",
      "source": [
        "Summary statistics"
      ],
      "metadata": {
        "id": "z-dYVneNkN7U"
      }
    },
    {
      "cell_type": "code",
      "source": [
        "data.describe()"
      ],
      "metadata": {
        "colab": {
          "base_uri": "https://localhost:8080/",
          "height": 399
        },
        "id": "xK9dQkK8QA_4",
        "outputId": "c31132fc-12fc-496a-bc37-5bf3d0bbc439"
      },
      "execution_count": null,
      "outputs": [
        {
          "output_type": "execute_result",
          "data": {
            "text/plain": [
              "               time  missing info        job ID    task index    machine ID  \\\n",
              "count  7.777600e+04           0.0  7.777600e+04  77776.000000  4.681900e+04   \n",
              "mean   8.099716e+09           NaN  5.091478e+09    608.306560  1.206542e+09   \n",
              "std    1.408447e+09           NaN  2.279193e+09   2169.508163  1.698082e+09   \n",
              "min    5.611824e+09           NaN  5.011141e+08      0.000000  5.000000e+00   \n",
              "25%    6.752774e+09           NaN  6.221862e+09     15.000000  6.608677e+06   \n",
              "50%    8.294712e+09           NaN  6.252054e+09     65.000000  3.174885e+08   \n",
              "75%    9.059357e+09           NaN  6.252174e+09    383.000000  2.006599e+09   \n",
              "max    1.062239e+10           NaN  6.252283e+09  19985.000000  6.248207e+09   \n",
              "\n",
              "         event type  scheduling class      priority   CPU request  \\\n",
              "count  77776.000000      77776.000000  77776.000000  77776.000000   \n",
              "mean       1.694520          0.615331      1.531218      0.033571   \n",
              "std        1.808957          0.883256      1.679227      0.035076   \n",
              "min        0.000000          0.000000      0.000000      0.000000   \n",
              "25%        0.000000          0.000000      0.000000      0.012500   \n",
              "50%        1.000000          0.000000      2.000000      0.024990   \n",
              "75%        4.000000          2.000000      2.000000      0.056270   \n",
              "max        5.000000          3.000000     11.000000      0.500000   \n",
              "\n",
              "       memory request  disk space request  different machines restriction  \n",
              "count    77776.000000        77776.000000                    77776.000000  \n",
              "mean         0.020162            0.000189                        0.160268  \n",
              "std          0.015647            0.000179                        0.366857  \n",
              "min          0.000000            0.000000                        0.000000  \n",
              "25%          0.011340            0.000038                        0.000000  \n",
              "50%          0.015530            0.000193                        0.000000  \n",
              "75%          0.027040            0.000226                        0.000000  \n",
              "max          0.429700            0.007042                        1.000000  "
            ],
            "text/html": [
              "\n",
              "  <div id=\"df-3d740c57-111b-4bcd-9cee-0ce92566a5cf\">\n",
              "    <div class=\"colab-df-container\">\n",
              "      <div>\n",
              "<style scoped>\n",
              "    .dataframe tbody tr th:only-of-type {\n",
              "        vertical-align: middle;\n",
              "    }\n",
              "\n",
              "    .dataframe tbody tr th {\n",
              "        vertical-align: top;\n",
              "    }\n",
              "\n",
              "    .dataframe thead th {\n",
              "        text-align: right;\n",
              "    }\n",
              "</style>\n",
              "<table border=\"1\" class=\"dataframe\">\n",
              "  <thead>\n",
              "    <tr style=\"text-align: right;\">\n",
              "      <th></th>\n",
              "      <th>time</th>\n",
              "      <th>missing info</th>\n",
              "      <th>job ID</th>\n",
              "      <th>task index</th>\n",
              "      <th>machine ID</th>\n",
              "      <th>event type</th>\n",
              "      <th>scheduling class</th>\n",
              "      <th>priority</th>\n",
              "      <th>CPU request</th>\n",
              "      <th>memory request</th>\n",
              "      <th>disk space request</th>\n",
              "      <th>different machines restriction</th>\n",
              "    </tr>\n",
              "  </thead>\n",
              "  <tbody>\n",
              "    <tr>\n",
              "      <th>count</th>\n",
              "      <td>7.777600e+04</td>\n",
              "      <td>0.0</td>\n",
              "      <td>7.777600e+04</td>\n",
              "      <td>77776.000000</td>\n",
              "      <td>4.681900e+04</td>\n",
              "      <td>77776.000000</td>\n",
              "      <td>77776.000000</td>\n",
              "      <td>77776.000000</td>\n",
              "      <td>77776.000000</td>\n",
              "      <td>77776.000000</td>\n",
              "      <td>77776.000000</td>\n",
              "      <td>77776.000000</td>\n",
              "    </tr>\n",
              "    <tr>\n",
              "      <th>mean</th>\n",
              "      <td>8.099716e+09</td>\n",
              "      <td>NaN</td>\n",
              "      <td>5.091478e+09</td>\n",
              "      <td>608.306560</td>\n",
              "      <td>1.206542e+09</td>\n",
              "      <td>1.694520</td>\n",
              "      <td>0.615331</td>\n",
              "      <td>1.531218</td>\n",
              "      <td>0.033571</td>\n",
              "      <td>0.020162</td>\n",
              "      <td>0.000189</td>\n",
              "      <td>0.160268</td>\n",
              "    </tr>\n",
              "    <tr>\n",
              "      <th>std</th>\n",
              "      <td>1.408447e+09</td>\n",
              "      <td>NaN</td>\n",
              "      <td>2.279193e+09</td>\n",
              "      <td>2169.508163</td>\n",
              "      <td>1.698082e+09</td>\n",
              "      <td>1.808957</td>\n",
              "      <td>0.883256</td>\n",
              "      <td>1.679227</td>\n",
              "      <td>0.035076</td>\n",
              "      <td>0.015647</td>\n",
              "      <td>0.000179</td>\n",
              "      <td>0.366857</td>\n",
              "    </tr>\n",
              "    <tr>\n",
              "      <th>min</th>\n",
              "      <td>5.611824e+09</td>\n",
              "      <td>NaN</td>\n",
              "      <td>5.011141e+08</td>\n",
              "      <td>0.000000</td>\n",
              "      <td>5.000000e+00</td>\n",
              "      <td>0.000000</td>\n",
              "      <td>0.000000</td>\n",
              "      <td>0.000000</td>\n",
              "      <td>0.000000</td>\n",
              "      <td>0.000000</td>\n",
              "      <td>0.000000</td>\n",
              "      <td>0.000000</td>\n",
              "    </tr>\n",
              "    <tr>\n",
              "      <th>25%</th>\n",
              "      <td>6.752774e+09</td>\n",
              "      <td>NaN</td>\n",
              "      <td>6.221862e+09</td>\n",
              "      <td>15.000000</td>\n",
              "      <td>6.608677e+06</td>\n",
              "      <td>0.000000</td>\n",
              "      <td>0.000000</td>\n",
              "      <td>0.000000</td>\n",
              "      <td>0.012500</td>\n",
              "      <td>0.011340</td>\n",
              "      <td>0.000038</td>\n",
              "      <td>0.000000</td>\n",
              "    </tr>\n",
              "    <tr>\n",
              "      <th>50%</th>\n",
              "      <td>8.294712e+09</td>\n",
              "      <td>NaN</td>\n",
              "      <td>6.252054e+09</td>\n",
              "      <td>65.000000</td>\n",
              "      <td>3.174885e+08</td>\n",
              "      <td>1.000000</td>\n",
              "      <td>0.000000</td>\n",
              "      <td>2.000000</td>\n",
              "      <td>0.024990</td>\n",
              "      <td>0.015530</td>\n",
              "      <td>0.000193</td>\n",
              "      <td>0.000000</td>\n",
              "    </tr>\n",
              "    <tr>\n",
              "      <th>75%</th>\n",
              "      <td>9.059357e+09</td>\n",
              "      <td>NaN</td>\n",
              "      <td>6.252174e+09</td>\n",
              "      <td>383.000000</td>\n",
              "      <td>2.006599e+09</td>\n",
              "      <td>4.000000</td>\n",
              "      <td>2.000000</td>\n",
              "      <td>2.000000</td>\n",
              "      <td>0.056270</td>\n",
              "      <td>0.027040</td>\n",
              "      <td>0.000226</td>\n",
              "      <td>0.000000</td>\n",
              "    </tr>\n",
              "    <tr>\n",
              "      <th>max</th>\n",
              "      <td>1.062239e+10</td>\n",
              "      <td>NaN</td>\n",
              "      <td>6.252283e+09</td>\n",
              "      <td>19985.000000</td>\n",
              "      <td>6.248207e+09</td>\n",
              "      <td>5.000000</td>\n",
              "      <td>3.000000</td>\n",
              "      <td>11.000000</td>\n",
              "      <td>0.500000</td>\n",
              "      <td>0.429700</td>\n",
              "      <td>0.007042</td>\n",
              "      <td>1.000000</td>\n",
              "    </tr>\n",
              "  </tbody>\n",
              "</table>\n",
              "</div>\n",
              "      <button class=\"colab-df-convert\" onclick=\"convertToInteractive('df-3d740c57-111b-4bcd-9cee-0ce92566a5cf')\"\n",
              "              title=\"Convert this dataframe to an interactive table.\"\n",
              "              style=\"display:none;\">\n",
              "        \n",
              "  <svg xmlns=\"http://www.w3.org/2000/svg\" height=\"24px\"viewBox=\"0 0 24 24\"\n",
              "       width=\"24px\">\n",
              "    <path d=\"M0 0h24v24H0V0z\" fill=\"none\"/>\n",
              "    <path d=\"M18.56 5.44l.94 2.06.94-2.06 2.06-.94-2.06-.94-.94-2.06-.94 2.06-2.06.94zm-11 1L8.5 8.5l.94-2.06 2.06-.94-2.06-.94L8.5 2.5l-.94 2.06-2.06.94zm10 10l.94 2.06.94-2.06 2.06-.94-2.06-.94-.94-2.06-.94 2.06-2.06.94z\"/><path d=\"M17.41 7.96l-1.37-1.37c-.4-.4-.92-.59-1.43-.59-.52 0-1.04.2-1.43.59L10.3 9.45l-7.72 7.72c-.78.78-.78 2.05 0 2.83L4 21.41c.39.39.9.59 1.41.59.51 0 1.02-.2 1.41-.59l7.78-7.78 2.81-2.81c.8-.78.8-2.07 0-2.86zM5.41 20L4 18.59l7.72-7.72 1.47 1.35L5.41 20z\"/>\n",
              "  </svg>\n",
              "      </button>\n",
              "      \n",
              "  <style>\n",
              "    .colab-df-container {\n",
              "      display:flex;\n",
              "      flex-wrap:wrap;\n",
              "      gap: 12px;\n",
              "    }\n",
              "\n",
              "    .colab-df-convert {\n",
              "      background-color: #E8F0FE;\n",
              "      border: none;\n",
              "      border-radius: 50%;\n",
              "      cursor: pointer;\n",
              "      display: none;\n",
              "      fill: #1967D2;\n",
              "      height: 32px;\n",
              "      padding: 0 0 0 0;\n",
              "      width: 32px;\n",
              "    }\n",
              "\n",
              "    .colab-df-convert:hover {\n",
              "      background-color: #E2EBFA;\n",
              "      box-shadow: 0px 1px 2px rgba(60, 64, 67, 0.3), 0px 1px 3px 1px rgba(60, 64, 67, 0.15);\n",
              "      fill: #174EA6;\n",
              "    }\n",
              "\n",
              "    [theme=dark] .colab-df-convert {\n",
              "      background-color: #3B4455;\n",
              "      fill: #D2E3FC;\n",
              "    }\n",
              "\n",
              "    [theme=dark] .colab-df-convert:hover {\n",
              "      background-color: #434B5C;\n",
              "      box-shadow: 0px 1px 3px 1px rgba(0, 0, 0, 0.15);\n",
              "      filter: drop-shadow(0px 1px 2px rgba(0, 0, 0, 0.3));\n",
              "      fill: #FFFFFF;\n",
              "    }\n",
              "  </style>\n",
              "\n",
              "      <script>\n",
              "        const buttonEl =\n",
              "          document.querySelector('#df-3d740c57-111b-4bcd-9cee-0ce92566a5cf button.colab-df-convert');\n",
              "        buttonEl.style.display =\n",
              "          google.colab.kernel.accessAllowed ? 'block' : 'none';\n",
              "\n",
              "        async function convertToInteractive(key) {\n",
              "          const element = document.querySelector('#df-3d740c57-111b-4bcd-9cee-0ce92566a5cf');\n",
              "          const dataTable =\n",
              "            await google.colab.kernel.invokeFunction('convertToInteractive',\n",
              "                                                     [key], {});\n",
              "          if (!dataTable) return;\n",
              "\n",
              "          const docLinkHtml = 'Like what you see? Visit the ' +\n",
              "            '<a target=\"_blank\" href=https://colab.research.google.com/notebooks/data_table.ipynb>data table notebook</a>'\n",
              "            + ' to learn more about interactive tables.';\n",
              "          element.innerHTML = '';\n",
              "          dataTable['output_type'] = 'display_data';\n",
              "          await google.colab.output.renderOutput(dataTable, element);\n",
              "          const docLink = document.createElement('div');\n",
              "          docLink.innerHTML = docLinkHtml;\n",
              "          element.appendChild(docLink);\n",
              "        }\n",
              "      </script>\n",
              "    </div>\n",
              "  </div>\n",
              "  "
            ]
          },
          "metadata": {},
          "execution_count": 7
        }
      ]
    },
    {
      "cell_type": "markdown",
      "source": [
        "Key observations:\n",
        "\n",
        "1. Here, Mean value is less than the median value (which is represented by 50th percentile) in most of the attributes \n"
      ],
      "metadata": {
        "id": "6mgGVBpwQaC3"
      }
    },
    {
      "cell_type": "markdown",
      "source": [
        "Understanding the target variables"
      ],
      "metadata": {
        "id": "aD_6OpiARBHe"
      }
    },
    {
      "cell_type": "code",
      "source": [
        "data.nunique()"
      ],
      "metadata": {
        "id": "uX5Wv2JURESG",
        "outputId": "3b8011ed-096e-4cab-f065-a3d976fcacd8",
        "colab": {
          "base_uri": "https://localhost:8080/"
        }
      },
      "execution_count": null,
      "outputs": [
        {
          "output_type": "execute_result",
          "data": {
            "text/plain": [
              "time                              77776\n",
              "missing info                          0\n",
              "job ID                             1324\n",
              "task index                         2970\n",
              "machine ID                         9616\n",
              "event type                            6\n",
              "user                                139\n",
              "scheduling class                      4\n",
              "priority                              7\n",
              "CPU request                          92\n",
              "memory request                      207\n",
              "disk space request                   95\n",
              "different machines restriction        2\n",
              "dtype: int64"
            ]
          },
          "metadata": {},
          "execution_count": 8
        }
      ]
    },
    {
      "cell_type": "code",
      "source": [
        "data.time.unique()"
      ],
      "metadata": {
        "colab": {
          "base_uri": "https://localhost:8080/"
        },
        "id": "YMk2k8U_Yuy7",
        "outputId": "091af53f-917d-4e67-c305-ee06c2fa76c2"
      },
      "execution_count": null,
      "outputs": [
        {
          "output_type": "execute_result",
          "data": {
            "text/plain": [
              "array([ 5611824441,  5611824625,  5612587437, ..., 10622388028,\n",
              "       10622388143, 10622388150])"
            ]
          },
          "metadata": {},
          "execution_count": 10
        }
      ]
    },
    {
      "cell_type": "code",
      "source": [
        "data['CPU request'].unique()"
      ],
      "metadata": {
        "colab": {
          "base_uri": "https://localhost:8080/"
        },
        "id": "JgRLE2DzmLxK",
        "outputId": "f98ecf7d-e7e2-447c-a08b-4dc2a57c3398"
      },
      "execution_count": null,
      "outputs": [
        {
          "output_type": "execute_result",
          "data": {
            "text/plain": [
              "array([0.02499  , 0.06873  , 0.0125   , 0.05627  , 0.0813   , 0.01874  ,\n",
              "       0.125    , 0.0625   , 0.04065  , 0.03125  , 0.01562  , 0.006248 ,\n",
              "       0.009369 , 0.1156   , 0.00769  , 0.003124 , 0.01094  , 0.006737 ,\n",
              "       0.009079 , 0.03748  , 0.       , 0.1594   , 0.0006247, 0.07495  ,\n",
              "       0.04688  , 0.2529   , 0.09998  , 0.1875   , 0.01059  , 0.009033 ,\n",
              "       0.09375  , 0.07812  , 0.01256  , 0.02188  , 0.05109  , 0.5      ,\n",
              "       0.008972 , 0.01312  , 0.03064  , 0.02487  , 0.02792  , 0.01306  ,\n",
              "       0.2505   , 0.008911 , 0.04999  , 0.02124  , 0.02539  , 0.1282   ,\n",
              "       0.1514   , 0.03412  , 0.09058  , 0.25     , 0.04437  , 0.008865 ,\n",
              "       0.1499   , 0.06189  , 0.08496  , 0.00676  , 0.008759 , 0.1694   ,\n",
              "       0.007278 , 0.05878  , 0.2219   , 0.06567  , 0.1125   , 0.01274  ,\n",
              "       0.02295  , 0.1938   , 0.2188   , 0.05499  , 0.01077  , 0.008209 ,\n",
              "       0.07446  , 0.07263  , 0.0075   , 0.04376  , 0.05688  , 0.02542  ,\n",
              "       0.02505  , 0.04071  , 0.4062   , 0.3789   , 0.01445  , 0.006783 ,\n",
              "       0.1777   , 0.02469  , 0.08435  , 0.02789  , 0.02518  , 0.3125   ,\n",
              "       0.03436  , 0.007263 ])"
            ]
          },
          "metadata": {},
          "execution_count": 12
        }
      ]
    },
    {
      "cell_type": "markdown",
      "source": [
        "Cleaning the data"
      ],
      "metadata": {
        "id": "WNWbRfUdml-x"
      }
    },
    {
      "cell_type": "code",
      "source": [
        "data.isnull().sum()"
      ],
      "metadata": {
        "colab": {
          "base_uri": "https://localhost:8080/"
        },
        "id": "kMim26kBmoUa",
        "outputId": "ee7a6811-220b-4efd-f053-d8b9ace2a047"
      },
      "execution_count": null,
      "outputs": [
        {
          "output_type": "execute_result",
          "data": {
            "text/plain": [
              "time                                  0\n",
              "missing info                      77776\n",
              "job ID                                0\n",
              "task index                            0\n",
              "machine ID                        30957\n",
              "event type                            0\n",
              "user                                  0\n",
              "scheduling class                      0\n",
              "priority                              0\n",
              "CPU request                           0\n",
              "memory request                        0\n",
              "disk space request                    0\n",
              "different machines restriction        0\n",
              "dtype: int64"
            ]
          },
          "metadata": {},
          "execution_count": 13
        }
      ]
    },
    {
      "cell_type": "code",
      "source": [
        "sns.heatmap(data.isnull(),cbar=False,yticklabels=False,cmap = 'viridis')"
      ],
      "metadata": {
        "colab": {
          "base_uri": "https://localhost:8080/",
          "height": 166
        },
        "id": "l10eQiIxmvkC",
        "outputId": "0a5e625d-79e7-48ca-ce95-984582ad23bd"
      },
      "execution_count": null,
      "outputs": [
        {
          "output_type": "error",
          "ename": "NameError",
          "evalue": "ignored",
          "traceback": [
            "\u001b[0;31m---------------------------------------------------------------------------\u001b[0m",
            "\u001b[0;31mNameError\u001b[0m                                 Traceback (most recent call last)",
            "\u001b[0;32m<ipython-input-1-064f0012d35e>\u001b[0m in \u001b[0;36m<module>\u001b[0;34m\u001b[0m\n\u001b[0;32m----> 1\u001b[0;31m \u001b[0msns\u001b[0m\u001b[0;34m.\u001b[0m\u001b[0mheatmap\u001b[0m\u001b[0;34m(\u001b[0m\u001b[0mdata\u001b[0m\u001b[0;34m.\u001b[0m\u001b[0misnull\u001b[0m\u001b[0;34m(\u001b[0m\u001b[0;34m)\u001b[0m\u001b[0;34m,\u001b[0m\u001b[0mcbar\u001b[0m\u001b[0;34m=\u001b[0m\u001b[0;32mFalse\u001b[0m\u001b[0;34m,\u001b[0m\u001b[0myticklabels\u001b[0m\u001b[0;34m=\u001b[0m\u001b[0;32mFalse\u001b[0m\u001b[0;34m,\u001b[0m\u001b[0mcmap\u001b[0m \u001b[0;34m=\u001b[0m \u001b[0;34m'viridis'\u001b[0m\u001b[0;34m)\u001b[0m\u001b[0;34m\u001b[0m\u001b[0;34m\u001b[0m\u001b[0m\n\u001b[0m",
            "\u001b[0;31mNameError\u001b[0m: name 'sns' is not defined"
          ]
        }
      ]
    },
    {
      "cell_type": "code",
      "source": [
        "data[data['CPU request'].isnull()]"
      ],
      "metadata": {
        "colab": {
          "base_uri": "https://localhost:8080/",
          "height": 111
        },
        "id": "TfGq1vBYnC_p",
        "outputId": "ab7c5547-5e06-4b67-dd67-53ddf3f38c9f"
      },
      "execution_count": null,
      "outputs": [
        {
          "output_type": "execute_result",
          "data": {
            "text/plain": [
              "Empty DataFrame\n",
              "Columns: [time, missing info, job ID, task index, machine ID, event type, user, scheduling class, priority, CPU request, memory request, disk space request, different machines restriction]\n",
              "Index: []"
            ],
            "text/html": [
              "\n",
              "  <div id=\"df-cdb9149b-7b90-4dc3-a91a-bce7ae319aae\">\n",
              "    <div class=\"colab-df-container\">\n",
              "      <div>\n",
              "<style scoped>\n",
              "    .dataframe tbody tr th:only-of-type {\n",
              "        vertical-align: middle;\n",
              "    }\n",
              "\n",
              "    .dataframe tbody tr th {\n",
              "        vertical-align: top;\n",
              "    }\n",
              "\n",
              "    .dataframe thead th {\n",
              "        text-align: right;\n",
              "    }\n",
              "</style>\n",
              "<table border=\"1\" class=\"dataframe\">\n",
              "  <thead>\n",
              "    <tr style=\"text-align: right;\">\n",
              "      <th></th>\n",
              "      <th>time</th>\n",
              "      <th>missing info</th>\n",
              "      <th>job ID</th>\n",
              "      <th>task index</th>\n",
              "      <th>machine ID</th>\n",
              "      <th>event type</th>\n",
              "      <th>user</th>\n",
              "      <th>scheduling class</th>\n",
              "      <th>priority</th>\n",
              "      <th>CPU request</th>\n",
              "      <th>memory request</th>\n",
              "      <th>disk space request</th>\n",
              "      <th>different machines restriction</th>\n",
              "    </tr>\n",
              "  </thead>\n",
              "  <tbody>\n",
              "  </tbody>\n",
              "</table>\n",
              "</div>\n",
              "      <button class=\"colab-df-convert\" onclick=\"convertToInteractive('df-cdb9149b-7b90-4dc3-a91a-bce7ae319aae')\"\n",
              "              title=\"Convert this dataframe to an interactive table.\"\n",
              "              style=\"display:none;\">\n",
              "        \n",
              "  <svg xmlns=\"http://www.w3.org/2000/svg\" height=\"24px\"viewBox=\"0 0 24 24\"\n",
              "       width=\"24px\">\n",
              "    <path d=\"M0 0h24v24H0V0z\" fill=\"none\"/>\n",
              "    <path d=\"M18.56 5.44l.94 2.06.94-2.06 2.06-.94-2.06-.94-.94-2.06-.94 2.06-2.06.94zm-11 1L8.5 8.5l.94-2.06 2.06-.94-2.06-.94L8.5 2.5l-.94 2.06-2.06.94zm10 10l.94 2.06.94-2.06 2.06-.94-2.06-.94-.94-2.06-.94 2.06-2.06.94z\"/><path d=\"M17.41 7.96l-1.37-1.37c-.4-.4-.92-.59-1.43-.59-.52 0-1.04.2-1.43.59L10.3 9.45l-7.72 7.72c-.78.78-.78 2.05 0 2.83L4 21.41c.39.39.9.59 1.41.59.51 0 1.02-.2 1.41-.59l7.78-7.78 2.81-2.81c.8-.78.8-2.07 0-2.86zM5.41 20L4 18.59l7.72-7.72 1.47 1.35L5.41 20z\"/>\n",
              "  </svg>\n",
              "      </button>\n",
              "      \n",
              "  <style>\n",
              "    .colab-df-container {\n",
              "      display:flex;\n",
              "      flex-wrap:wrap;\n",
              "      gap: 12px;\n",
              "    }\n",
              "\n",
              "    .colab-df-convert {\n",
              "      background-color: #E8F0FE;\n",
              "      border: none;\n",
              "      border-radius: 50%;\n",
              "      cursor: pointer;\n",
              "      display: none;\n",
              "      fill: #1967D2;\n",
              "      height: 32px;\n",
              "      padding: 0 0 0 0;\n",
              "      width: 32px;\n",
              "    }\n",
              "\n",
              "    .colab-df-convert:hover {\n",
              "      background-color: #E2EBFA;\n",
              "      box-shadow: 0px 1px 2px rgba(60, 64, 67, 0.3), 0px 1px 3px 1px rgba(60, 64, 67, 0.15);\n",
              "      fill: #174EA6;\n",
              "    }\n",
              "\n",
              "    [theme=dark] .colab-df-convert {\n",
              "      background-color: #3B4455;\n",
              "      fill: #D2E3FC;\n",
              "    }\n",
              "\n",
              "    [theme=dark] .colab-df-convert:hover {\n",
              "      background-color: #434B5C;\n",
              "      box-shadow: 0px 1px 3px 1px rgba(0, 0, 0, 0.15);\n",
              "      filter: drop-shadow(0px 1px 2px rgba(0, 0, 0, 0.3));\n",
              "      fill: #FFFFFF;\n",
              "    }\n",
              "  </style>\n",
              "\n",
              "      <script>\n",
              "        const buttonEl =\n",
              "          document.querySelector('#df-cdb9149b-7b90-4dc3-a91a-bce7ae319aae button.colab-df-convert');\n",
              "        buttonEl.style.display =\n",
              "          google.colab.kernel.accessAllowed ? 'block' : 'none';\n",
              "\n",
              "        async function convertToInteractive(key) {\n",
              "          const element = document.querySelector('#df-cdb9149b-7b90-4dc3-a91a-bce7ae319aae');\n",
              "          const dataTable =\n",
              "            await google.colab.kernel.invokeFunction('convertToInteractive',\n",
              "                                                     [key], {});\n",
              "          if (!dataTable) return;\n",
              "\n",
              "          const docLinkHtml = 'Like what you see? Visit the ' +\n",
              "            '<a target=\"_blank\" href=https://colab.research.google.com/notebooks/data_table.ipynb>data table notebook</a>'\n",
              "            + ' to learn more about interactive tables.';\n",
              "          element.innerHTML = '';\n",
              "          dataTable['output_type'] = 'display_data';\n",
              "          await google.colab.output.renderOutput(dataTable, element);\n",
              "          const docLink = document.createElement('div');\n",
              "          docLink.innerHTML = docLinkHtml;\n",
              "          element.appendChild(docLink);\n",
              "        }\n",
              "      </script>\n",
              "    </div>\n",
              "  </div>\n",
              "  "
            ]
          },
          "metadata": {},
          "execution_count": 15
        }
      ]
    },
    {
      "cell_type": "markdown",
      "source": [
        "Observation:\n",
        "\n",
        "Some null values of different columns occur in the same row"
      ],
      "metadata": {
        "id": "ef0N6wjano7K"
      }
    },
    {
      "cell_type": "markdown",
      "source": [
        "Handling null values"
      ],
      "metadata": {
        "id": "_a_B3GBJokiX"
      }
    },
    {
      "cell_type": "code",
      "source": [
        "fig,ax=plt.subplots(figsize=(10,6))\n",
        "sns.boxplot(data['CPU request'])"
      ],
      "metadata": {
        "colab": {
          "base_uri": "https://localhost:8080/",
          "height": 460
        },
        "id": "IEsDg4agonPv",
        "outputId": "ec817c8a-7a3e-42ae-fe53-926ca09d69af"
      },
      "execution_count": null,
      "outputs": [
        {
          "output_type": "stream",
          "name": "stderr",
          "text": [
            "/usr/local/lib/python3.7/dist-packages/seaborn/_decorators.py:43: FutureWarning: Pass the following variable as a keyword arg: x. From version 0.12, the only valid positional argument will be `data`, and passing other arguments without an explicit keyword will result in an error or misinterpretation.\n",
            "  FutureWarning\n"
          ]
        },
        {
          "output_type": "execute_result",
          "data": {
            "text/plain": [
              "<matplotlib.axes._subplots.AxesSubplot at 0x7f326011fa10>"
            ]
          },
          "metadata": {},
          "execution_count": 16
        },
        {
          "output_type": "display_data",
          "data": {
            "text/plain": [
              "<Figure size 720x432 with 1 Axes>"
            ],
            "image/png": "[encoded data removed]"
          },
          "metadata": {
            "needs_background": "light"
          }
        }
      ]
    },
    {
      "cell_type": "code",
      "source": [
        "fig,ax=plt.subplots(figsize=(10,6))\n",
        "sns.distplot(data['CPU request'])\n",
        "#displays the density of data distribution"
      ],
      "metadata": {
        "colab": {
          "base_uri": "https://localhost:8080/",
          "height": 460
        },
        "id": "ghxfSCKbo0LA",
        "outputId": "da364bba-c9e5-4a7f-8ddf-2d2a6c0fb084"
      },
      "execution_count": null,
      "outputs": [
        {
          "output_type": "stream",
          "name": "stderr",
          "text": [
            "/usr/local/lib/python3.7/dist-packages/seaborn/distributions.py:2619: FutureWarning: `distplot` is a deprecated function and will be removed in a future version. Please adapt your code to use either `displot` (a figure-level function with similar flexibility) or `histplot` (an axes-level function for histograms).\n",
            "  warnings.warn(msg, FutureWarning)\n"
          ]
        },
        {
          "output_type": "execute_result",
          "data": {
            "text/plain": [
              "<matplotlib.axes._subplots.AxesSubplot at 0x7f326008e3d0>"
            ]
          },
          "metadata": {},
          "execution_count": 17
        },
        {
          "output_type": "display_data",
          "data": {
            "text/plain": [
              "<Figure size 720x432 with 1 Axes>"
            ],
            "image/png": "[encoded data removed]"
          },
          "metadata": {
            "needs_background": "light"
          }
        }
      ]
    },
    {
      "cell_type": "markdown",
      "source": [
        "Observations:\n",
        "\n",
        "Positively  skewed"
      ],
      "metadata": {
        "id": "xmmCfER8puiX"
      }
    },
    {
      "cell_type": "code",
      "source": [
        "data.fillna(0)"
      ],
      "metadata": {
        "colab": {
          "base_uri": "https://localhost:8080/",
          "height": 522
        },
        "id": "tF655NvPp3tH",
        "outputId": "b66313f9-d967-46e0-89df-66f151c98c98"
      },
      "execution_count": null,
      "outputs": [
        {
          "output_type": "execute_result",
          "data": {
            "text/plain": [
              "              time  missing info      job ID  task index    machine ID  \\\n",
              "0       5611824441           0.0  6251812952        1761  1.306108e+06   \n",
              "1       5611824625           0.0  6251974185         252  3.867630e+07   \n",
              "2       5612587437           0.0  6251995937          33  3.864505e+08   \n",
              "3       5612587446           0.0  6251995937          33  0.000000e+00   \n",
              "4       5612608285           0.0  6221861800       15930  7.777379e+06   \n",
              "...            ...           ...         ...         ...           ...   \n",
              "77771  10622388020           0.0   515042954          12  0.000000e+00   \n",
              "77772  10622388025           0.0  4392480606          45  4.820184e+09   \n",
              "77773  10622388028           0.0  4392480606          45  0.000000e+00   \n",
              "77774  10622388143           0.0  6249153835          10  3.251994e+09   \n",
              "77775  10622388150           0.0  6249153835          10  0.000000e+00   \n",
              "\n",
              "       event type                                          user  \\\n",
              "0               4  fJYeclskJqPWsAT6TX/r9X5OiIZpSEb2PBGliYAOMxM=   \n",
              "1               4  fJYeclskJqPWsAT6TX/r9X5OiIZpSEb2PBGliYAOMxM=   \n",
              "2               2  4Ubmtvv/epOnUEgegvGV9mCxxcZkV4z/Dm8RY/9SEYw=   \n",
              "3               0  4Ubmtvv/epOnUEgegvGV9mCxxcZkV4z/Dm8RY/9SEYw=   \n",
              "4               2  huEqgBuTsgIbw1KmYjIUw/N6rUCEeIqRUY51E4M8icU=   \n",
              "...           ...                                           ...   \n",
              "77771           0  /fk1fVcVxZ6iM6gHZzqbIyq56m5zrmHfpdcZ/zzkq4c=   \n",
              "77772           5  XXdY557FQk791swgplLkVfyX7Vr1lIHuSKR+pnbZWR8=   \n",
              "77773           0  XXdY557FQk791swgplLkVfyX7Vr1lIHuSKR+pnbZWR8=   \n",
              "77774           2  Q/WF/++kNe3VwGgx/38jaqIHl1nGn6abu1bZUzaFJ6U=   \n",
              "77775           0  Q/WF/++kNe3VwGgx/38jaqIHl1nGn6abu1bZUzaFJ6U=   \n",
              "\n",
              "       scheduling class  priority  CPU request  memory request  \\\n",
              "0                     0         2      0.02499        0.079590   \n",
              "1                     0         2      0.02499        0.033390   \n",
              "2                     0         0      0.06873        0.011930   \n",
              "3                     0         0      0.06873        0.011930   \n",
              "4                     0         0      0.01250        0.015900   \n",
              "...                 ...       ...          ...             ...   \n",
              "77771                 2         0      0.11560        0.020970   \n",
              "77772                 2         0      0.06250        0.063350   \n",
              "77773                 2         0      0.06250        0.063350   \n",
              "77774                 0         0      0.25050        0.001554   \n",
              "77775                 0         0      0.25050        0.001554   \n",
              "\n",
              "       disk space request  different machines restriction  \n",
              "0                0.000386                               1  \n",
              "1                0.000386                               1  \n",
              "2                0.000115                               0  \n",
              "3                0.000115                               0  \n",
              "4                0.000404                               0  \n",
              "...                   ...                             ...  \n",
              "77771            0.000106                               0  \n",
              "77772            0.000077                               1  \n",
              "77773            0.000077                               1  \n",
              "77774            0.000004                               0  \n",
              "77775            0.000004                               0  \n",
              "\n",
              "[77776 rows x 13 columns]"
            ],
            "text/html": [
              "\n",
              "  <div id=\"df-a43084b0-9477-48d6-bc52-2594d9f6edd0\">\n",
              "    <div class=\"colab-df-container\">\n",
              "      <div>\n",
              "<style scoped>\n",
              "    .dataframe tbody tr th:only-of-type {\n",
              "        vertical-align: middle;\n",
              "    }\n",
              "\n",
              "    .dataframe tbody tr th {\n",
              "        vertical-align: top;\n",
              "    }\n",
              "\n",
              "    .dataframe thead th {\n",
              "        text-align: right;\n",
              "    }\n",
              "</style>\n",
              "<table border=\"1\" class=\"dataframe\">\n",
              "  <thead>\n",
              "    <tr style=\"text-align: right;\">\n",
              "      <th></th>\n",
              "      <th>time</th>\n",
              "      <th>missing info</th>\n",
              "      <th>job ID</th>\n",
              "      <th>task index</th>\n",
              "      <th>machine ID</th>\n",
              "      <th>event type</th>\n",
              "      <th>user</th>\n",
              "      <th>scheduling class</th>\n",
              "      <th>priority</th>\n",
              "      <th>CPU request</th>\n",
              "      <th>memory request</th>\n",
              "      <th>disk space request</th>\n",
              "      <th>different machines restriction</th>\n",
              "    </tr>\n",
              "  </thead>\n",
              "  <tbody>\n",
              "    <tr>\n",
              "      <th>0</th>\n",
              "      <td>5611824441</td>\n",
              "      <td>0.0</td>\n",
              "      <td>6251812952</td>\n",
              "      <td>1761</td>\n",
              "      <td>1.306108e+06</td>\n",
              "      <td>4</td>\n",
              "      <td>fJYeclskJqPWsAT6TX/r9X5OiIZpSEb2PBGliYAOMxM=</td>\n",
              "      <td>0</td>\n",
              "      <td>2</td>\n",
              "      <td>0.02499</td>\n",
              "      <td>0.079590</td>\n",
              "      <td>0.000386</td>\n",
              "      <td>1</td>\n",
              "    </tr>\n",
              "    <tr>\n",
              "      <th>1</th>\n",
              "      <td>5611824625</td>\n",
              "      <td>0.0</td>\n",
              "      <td>6251974185</td>\n",
              "      <td>252</td>\n",
              "      <td>3.867630e+07</td>\n",
              "      <td>4</td>\n",
              "      <td>fJYeclskJqPWsAT6TX/r9X5OiIZpSEb2PBGliYAOMxM=</td>\n",
              "      <td>0</td>\n",
              "      <td>2</td>\n",
              "      <td>0.02499</td>\n",
              "      <td>0.033390</td>\n",
              "      <td>0.000386</td>\n",
              "      <td>1</td>\n",
              "    </tr>\n",
              "    <tr>\n",
              "      <th>2</th>\n",
              "      <td>5612587437</td>\n",
              "      <td>0.0</td>\n",
              "      <td>6251995937</td>\n",
              "      <td>33</td>\n",
              "      <td>3.864505e+08</td>\n",
              "      <td>2</td>\n",
              "      <td>4Ubmtvv/epOnUEgegvGV9mCxxcZkV4z/Dm8RY/9SEYw=</td>\n",
              "      <td>0</td>\n",
              "      <td>0</td>\n",
              "      <td>0.06873</td>\n",
              "      <td>0.011930</td>\n",
              "      <td>0.000115</td>\n",
              "      <td>0</td>\n",
              "    </tr>\n",
              "    <tr>\n",
              "      <th>3</th>\n",
              "      <td>5612587446</td>\n",
              "      <td>0.0</td>\n",
              "      <td>6251995937</td>\n",
              "      <td>33</td>\n",
              "      <td>0.000000e+00</td>\n",
              "      <td>0</td>\n",
              "      <td>4Ubmtvv/epOnUEgegvGV9mCxxcZkV4z/Dm8RY/9SEYw=</td>\n",
              "      <td>0</td>\n",
              "      <td>0</td>\n",
              "      <td>0.06873</td>\n",
              "      <td>0.011930</td>\n",
              "      <td>0.000115</td>\n",
              "      <td>0</td>\n",
              "    </tr>\n",
              "    <tr>\n",
              "      <th>4</th>\n",
              "      <td>5612608285</td>\n",
              "      <td>0.0</td>\n",
              "      <td>6221861800</td>\n",
              "      <td>15930</td>\n",
              "      <td>7.777379e+06</td>\n",
              "      <td>2</td>\n",
              "      <td>huEqgBuTsgIbw1KmYjIUw/N6rUCEeIqRUY51E4M8icU=</td>\n",
              "      <td>0</td>\n",
              "      <td>0</td>\n",
              "      <td>0.01250</td>\n",
              "      <td>0.015900</td>\n",
              "      <td>0.000404</td>\n",
              "      <td>0</td>\n",
              "    </tr>\n",
              "    <tr>\n",
              "      <th>...</th>\n",
              "      <td>...</td>\n",
              "      <td>...</td>\n",
              "      <td>...</td>\n",
              "      <td>...</td>\n",
              "      <td>...</td>\n",
              "      <td>...</td>\n",
              "      <td>...</td>\n",
              "      <td>...</td>\n",
              "      <td>...</td>\n",
              "      <td>...</td>\n",
              "      <td>...</td>\n",
              "      <td>...</td>\n",
              "      <td>...</td>\n",
              "    </tr>\n",
              "    <tr>\n",
              "      <th>77771</th>\n",
              "      <td>10622388020</td>\n",
              "      <td>0.0</td>\n",
              "      <td>515042954</td>\n",
              "      <td>12</td>\n",
              "      <td>0.000000e+00</td>\n",
              "      <td>0</td>\n",
              "      <td>/fk1fVcVxZ6iM6gHZzqbIyq56m5zrmHfpdcZ/zzkq4c=</td>\n",
              "      <td>2</td>\n",
              "      <td>0</td>\n",
              "      <td>0.11560</td>\n",
              "      <td>0.020970</td>\n",
              "      <td>0.000106</td>\n",
              "      <td>0</td>\n",
              "    </tr>\n",
              "    <tr>\n",
              "      <th>77772</th>\n",
              "      <td>10622388025</td>\n",
              "      <td>0.0</td>\n",
              "      <td>4392480606</td>\n",
              "      <td>45</td>\n",
              "      <td>4.820184e+09</td>\n",
              "      <td>5</td>\n",
              "      <td>XXdY557FQk791swgplLkVfyX7Vr1lIHuSKR+pnbZWR8=</td>\n",
              "      <td>2</td>\n",
              "      <td>0</td>\n",
              "      <td>0.06250</td>\n",
              "      <td>0.063350</td>\n",
              "      <td>0.000077</td>\n",
              "      <td>1</td>\n",
              "    </tr>\n",
              "    <tr>\n",
              "      <th>77773</th>\n",
              "      <td>10622388028</td>\n",
              "      <td>0.0</td>\n",
              "      <td>4392480606</td>\n",
              "      <td>45</td>\n",
              "      <td>0.000000e+00</td>\n",
              "      <td>0</td>\n",
              "      <td>XXdY557FQk791swgplLkVfyX7Vr1lIHuSKR+pnbZWR8=</td>\n",
              "      <td>2</td>\n",
              "      <td>0</td>\n",
              "      <td>0.06250</td>\n",
              "      <td>0.063350</td>\n",
              "      <td>0.000077</td>\n",
              "      <td>1</td>\n",
              "    </tr>\n",
              "    <tr>\n",
              "      <th>77774</th>\n",
              "      <td>10622388143</td>\n",
              "      <td>0.0</td>\n",
              "      <td>6249153835</td>\n",
              "      <td>10</td>\n",
              "      <td>3.251994e+09</td>\n",
              "      <td>2</td>\n",
              "      <td>Q/WF/++kNe3VwGgx/38jaqIHl1nGn6abu1bZUzaFJ6U=</td>\n",
              "      <td>0</td>\n",
              "      <td>0</td>\n",
              "      <td>0.25050</td>\n",
              "      <td>0.001554</td>\n",
              "      <td>0.000004</td>\n",
              "      <td>0</td>\n",
              "    </tr>\n",
              "    <tr>\n",
              "      <th>77775</th>\n",
              "      <td>10622388150</td>\n",
              "      <td>0.0</td>\n",
              "      <td>6249153835</td>\n",
              "      <td>10</td>\n",
              "      <td>0.000000e+00</td>\n",
              "      <td>0</td>\n",
              "      <td>Q/WF/++kNe3VwGgx/38jaqIHl1nGn6abu1bZUzaFJ6U=</td>\n",
              "      <td>0</td>\n",
              "      <td>0</td>\n",
              "      <td>0.25050</td>\n",
              "      <td>0.001554</td>\n",
              "      <td>0.000004</td>\n",
              "      <td>0</td>\n",
              "    </tr>\n",
              "  </tbody>\n",
              "</table>\n",
              "<p>77776 rows × 13 columns</p>\n",
              "</div>\n",
              "      <button class=\"colab-df-convert\" onclick=\"convertToInteractive('df-a43084b0-9477-48d6-bc52-2594d9f6edd0')\"\n",
              "              title=\"Convert this dataframe to an interactive table.\"\n",
              "              style=\"display:none;\">\n",
              "        \n",
              "  <svg xmlns=\"http://www.w3.org/2000/svg\" height=\"24px\"viewBox=\"0 0 24 24\"\n",
              "       width=\"24px\">\n",
              "    <path d=\"M0 0h24v24H0V0z\" fill=\"none\"/>\n",
              "    <path d=\"M18.56 5.44l.94 2.06.94-2.06 2.06-.94-2.06-.94-.94-2.06-.94 2.06-2.06.94zm-11 1L8.5 8.5l.94-2.06 2.06-.94-2.06-.94L8.5 2.5l-.94 2.06-2.06.94zm10 10l.94 2.06.94-2.06 2.06-.94-2.06-.94-.94-2.06-.94 2.06-2.06.94z\"/><path d=\"M17.41 7.96l-1.37-1.37c-.4-.4-.92-.59-1.43-.59-.52 0-1.04.2-1.43.59L10.3 9.45l-7.72 7.72c-.78.78-.78 2.05 0 2.83L4 21.41c.39.39.9.59 1.41.59.51 0 1.02-.2 1.41-.59l7.78-7.78 2.81-2.81c.8-.78.8-2.07 0-2.86zM5.41 20L4 18.59l7.72-7.72 1.47 1.35L5.41 20z\"/>\n",
              "  </svg>\n",
              "      </button>\n",
              "      \n",
              "  <style>\n",
              "    .colab-df-container {\n",
              "      display:flex;\n",
              "      flex-wrap:wrap;\n",
              "      gap: 12px;\n",
              "    }\n",
              "\n",
              "    .colab-df-convert {\n",
              "      background-color: #E8F0FE;\n",
              "      border: none;\n",
              "      border-radius: 50%;\n",
              "      cursor: pointer;\n",
              "      display: none;\n",
              "      fill: #1967D2;\n",
              "      height: 32px;\n",
              "      padding: 0 0 0 0;\n",
              "      width: 32px;\n",
              "    }\n",
              "\n",
              "    .colab-df-convert:hover {\n",
              "      background-color: #E2EBFA;\n",
              "      box-shadow: 0px 1px 2px rgba(60, 64, 67, 0.3), 0px 1px 3px 1px rgba(60, 64, 67, 0.15);\n",
              "      fill: #174EA6;\n",
              "    }\n",
              "\n",
              "    [theme=dark] .colab-df-convert {\n",
              "      background-color: #3B4455;\n",
              "      fill: #D2E3FC;\n",
              "    }\n",
              "\n",
              "    [theme=dark] .colab-df-convert:hover {\n",
              "      background-color: #434B5C;\n",
              "      box-shadow: 0px 1px 3px 1px rgba(0, 0, 0, 0.15);\n",
              "      filter: drop-shadow(0px 1px 2px rgba(0, 0, 0, 0.3));\n",
              "      fill: #FFFFFF;\n",
              "    }\n",
              "  </style>\n",
              "\n",
              "      <script>\n",
              "        const buttonEl =\n",
              "          document.querySelector('#df-a43084b0-9477-48d6-bc52-2594d9f6edd0 button.colab-df-convert');\n",
              "        buttonEl.style.display =\n",
              "          google.colab.kernel.accessAllowed ? 'block' : 'none';\n",
              "\n",
              "        async function convertToInteractive(key) {\n",
              "          const element = document.querySelector('#df-a43084b0-9477-48d6-bc52-2594d9f6edd0');\n",
              "          const dataTable =\n",
              "            await google.colab.kernel.invokeFunction('convertToInteractive',\n",
              "                                                     [key], {});\n",
              "          if (!dataTable) return;\n",
              "\n",
              "          const docLinkHtml = 'Like what you see? Visit the ' +\n",
              "            '<a target=\"_blank\" href=https://colab.research.google.com/notebooks/data_table.ipynb>data table notebook</a>'\n",
              "            + ' to learn more about interactive tables.';\n",
              "          element.innerHTML = '';\n",
              "          dataTable['output_type'] = 'display_data';\n",
              "          await google.colab.output.renderOutput(dataTable, element);\n",
              "          const docLink = document.createElement('div');\n",
              "          docLink.innerHTML = docLinkHtml;\n",
              "          element.appendChild(docLink);\n",
              "        }\n",
              "      </script>\n",
              "    </div>\n",
              "  </div>\n",
              "  "
            ]
          },
          "metadata": {},
          "execution_count": 18
        }
      ]
    },
    {
      "cell_type": "code",
      "source": [
        "data['CPU request'] = data['CPU request'].fillna(0)\n"
      ],
      "metadata": {
        "id": "sBRlSOO9qHNe"
      },
      "execution_count": null,
      "outputs": []
    },
    {
      "cell_type": "code",
      "source": [
        "data.isnull().sum()"
      ],
      "metadata": {
        "colab": {
          "base_uri": "https://localhost:8080/"
        },
        "id": "eGLxXnP_qFCm",
        "outputId": "6dafbbb1-2672-49f5-f22b-88c21392f3e9"
      },
      "execution_count": null,
      "outputs": [
        {
          "output_type": "execute_result",
          "data": {
            "text/plain": [
              "time                                  0\n",
              "missing info                      77776\n",
              "job ID                                0\n",
              "task index                            0\n",
              "machine ID                        30957\n",
              "event type                            0\n",
              "user                                  0\n",
              "scheduling class                      0\n",
              "priority                              0\n",
              "CPU request                           0\n",
              "memory request                        0\n",
              "disk space request                    0\n",
              "different machines restriction        0\n",
              "dtype: int64"
            ]
          },
          "metadata": {},
          "execution_count": 21
        }
      ]
    },
    {
      "cell_type": "code",
      "source": [
        "data= data.dropna(how='any',axis=0) "
      ],
      "metadata": {
        "id": "-8bY0Je1qrK2"
      },
      "execution_count": null,
      "outputs": []
    },
    {
      "cell_type": "markdown",
      "source": [
        "NaN value occurs only in one row. Here having a null value at a particular time stamp is necessary. So replacing the NAN value with 0 doesn't affect the dataset."
      ],
      "metadata": {
        "id": "GZoOkVImrLcl"
      }
    },
    {
      "cell_type": "markdown",
      "source": [
        "Relationship analysis"
      ],
      "metadata": {
        "id": "ScEB83gLrbr9"
      }
    },
    {
      "cell_type": "code",
      "source": [
        "corelation=data.corr()"
      ],
      "metadata": {
        "id": "pSL-ONZ9r64V"
      },
      "execution_count": null,
      "outputs": []
    },
    {
      "cell_type": "code",
      "source": [
        "plt.figure(figsize=(6,4))\n",
        "sns.heatmap(data.corr(),cmap='Blues',annot=False)"
      ],
      "metadata": {
        "colab": {
          "base_uri": "https://localhost:8080/",
          "height": 183
        },
        "id": "xOJ1BIU3r_g8",
        "outputId": "a2626fbd-ac41-4adf-da6b-9256f3fa866c"
      },
      "execution_count": null,
      "outputs": [
        {
          "output_type": "error",
          "ename": "NameError",
          "evalue": "ignored",
          "traceback": [
            "\u001b[0;31m---------------------------------------------------------------------------\u001b[0m",
            "\u001b[0;31mNameError\u001b[0m                                 Traceback (most recent call last)",
            "\u001b[0;32m<ipython-input-1-73c0520e6ef6>\u001b[0m in \u001b[0;36m<module>\u001b[0;34m\u001b[0m\n\u001b[0;32m----> 1\u001b[0;31m \u001b[0mplt\u001b[0m\u001b[0;34m.\u001b[0m\u001b[0mfigure\u001b[0m\u001b[0;34m(\u001b[0m\u001b[0mfigsize\u001b[0m\u001b[0;34m=\u001b[0m\u001b[0;34m(\u001b[0m\u001b[0;36m6\u001b[0m\u001b[0;34m,\u001b[0m\u001b[0;36m4\u001b[0m\u001b[0;34m)\u001b[0m\u001b[0;34m)\u001b[0m\u001b[0;34m\u001b[0m\u001b[0;34m\u001b[0m\u001b[0m\n\u001b[0m\u001b[1;32m      2\u001b[0m \u001b[0msns\u001b[0m\u001b[0;34m.\u001b[0m\u001b[0mheatmap\u001b[0m\u001b[0;34m(\u001b[0m\u001b[0mdata\u001b[0m\u001b[0;34m.\u001b[0m\u001b[0mcorr\u001b[0m\u001b[0;34m(\u001b[0m\u001b[0;34m)\u001b[0m\u001b[0;34m,\u001b[0m\u001b[0mcmap\u001b[0m\u001b[0;34m=\u001b[0m\u001b[0;34m'Blues'\u001b[0m\u001b[0;34m,\u001b[0m\u001b[0mannot\u001b[0m\u001b[0;34m=\u001b[0m\u001b[0;32mFalse\u001b[0m\u001b[0;34m)\u001b[0m\u001b[0;34m\u001b[0m\u001b[0;34m\u001b[0m\u001b[0m\n",
            "\u001b[0;31mNameError\u001b[0m: name 'plt' is not defined"
          ]
        }
      ]
    },
    {
      "cell_type": "code",
      "source": [
        "sns.pairplot(data)\n",
        "#The histogram on the diagonal allows us to see the distribution of a single variable while the scatter plots\n",
        "#on the upper and lower triangles show the relationship  between two variables"
      ],
      "metadata": {
        "id": "UT9Y6R__sL2t",
        "colab": {
          "base_uri": "https://localhost:8080/",
          "height": 1000
        },
        "outputId": "4bd9c634-497e-481b-9768-96f76c9b911d"
      },
      "execution_count": null,
      "outputs": [
        {
          "output_type": "execute_result",
          "data": {
            "text/plain": [
              "<seaborn.axisgrid.PairGrid at 0x7f325dd33450>"
            ]
          },
          "metadata": {},
          "execution_count": 25
        },
        {
          "output_type": "display_data",
          "data": {
            "text/plain": [
              "<Figure size 2340x2340 with 182 Axes>"
            ],
            "image/png": "[encoded data removed]"
          },
          "metadata": {
            "needs_background": "light"
          }
        }
      ]
    },
    {
      "cell_type": "code",
      "source": [
        "sns.relplot(data=data, x=\"time\", y=\"sns.relplot(data=data, x=\"time\", y=\"CPU request\")\")"
      ],
      "metadata": {
        "colab": {
          "base_uri": "https://localhost:8080/",
          "height": 131
        },
        "id": "Yj_YRLPmY4cE",
        "outputId": "94486f6b-11cf-420b-d18b-6e02898ef9a8"
      },
      "execution_count": null,
      "outputs": [
        {
          "output_type": "error",
          "ename": "SyntaxError",
          "evalue": "ignored",
          "traceback": [
            "\u001b[0;36m  File \u001b[0;32m\"<ipython-input-2-01502c236113>\"\u001b[0;36m, line \u001b[0;32m1\u001b[0m\n\u001b[0;31m    sns.relplot(data=data, x=\"time\", y=\"sns.relplot(data=data, x=\"time\", y=\"CPU request\")\")\u001b[0m\n\u001b[0m                                                                     ^\u001b[0m\n\u001b[0;31mSyntaxError\u001b[0m\u001b[0;31m:\u001b[0m invalid syntax\n"
          ]
        }
      ]
    },
    {
      "cell_type": "code",
      "source": [
        "#Quality correlation matrix\n",
        "k = 8 #number of variables for heatmap\n",
        "cols = data.corr().nlargest(k, 'CPU request')['CPU request'].index\n",
        "cm = data[cols].corr()\n",
        "plt.figure(figsize=(10,6))\n",
        "sns.heatmap(cm, annot=True, cmap = 'viridis')"
      ],
      "metadata": {
        "colab": {
          "base_uri": "https://localhost:8080/",
          "height": 397
        },
        "id": "U1IK6bloY-lz",
        "outputId": "5b160d24-d836-4e13-d9fc-6b6f4ba3a6d1"
      },
      "execution_count": null,
      "outputs": [
        {
          "output_type": "error",
          "ename": "ValueError",
          "evalue": "ignored",
          "traceback": [
            "\u001b[0;31m---------------------------------------------------------------------------\u001b[0m",
            "\u001b[0;31mValueError\u001b[0m                                Traceback (most recent call last)",
            "\u001b[0;32m<ipython-input-29-265f845155e0>\u001b[0m in \u001b[0;36m<module>\u001b[0;34m()\u001b[0m\n\u001b[1;32m      4\u001b[0m \u001b[0mcm\u001b[0m \u001b[0;34m=\u001b[0m \u001b[0mdata\u001b[0m\u001b[0;34m[\u001b[0m\u001b[0mcols\u001b[0m\u001b[0;34m]\u001b[0m\u001b[0;34m.\u001b[0m\u001b[0mcorr\u001b[0m\u001b[0;34m(\u001b[0m\u001b[0;34m)\u001b[0m\u001b[0;34m\u001b[0m\u001b[0;34m\u001b[0m\u001b[0m\n\u001b[1;32m      5\u001b[0m \u001b[0mplt\u001b[0m\u001b[0;34m.\u001b[0m\u001b[0mfigure\u001b[0m\u001b[0;34m(\u001b[0m\u001b[0mfigsize\u001b[0m\u001b[0;34m=\u001b[0m\u001b[0;34m(\u001b[0m\u001b[0;36m10\u001b[0m\u001b[0;34m,\u001b[0m\u001b[0;36m6\u001b[0m\u001b[0;34m)\u001b[0m\u001b[0;34m)\u001b[0m\u001b[0;34m\u001b[0m\u001b[0;34m\u001b[0m\u001b[0m\n\u001b[0;32m----> 6\u001b[0;31m \u001b[0msns\u001b[0m\u001b[0;34m.\u001b[0m\u001b[0mheatmap\u001b[0m\u001b[0;34m(\u001b[0m\u001b[0mcm\u001b[0m\u001b[0;34m,\u001b[0m \u001b[0mannot\u001b[0m\u001b[0;34m=\u001b[0m\u001b[0;32mTrue\u001b[0m\u001b[0;34m,\u001b[0m \u001b[0mcmap\u001b[0m \u001b[0;34m=\u001b[0m \u001b[0;34m'viridis'\u001b[0m\u001b[0;34m)\u001b[0m\u001b[0;34m\u001b[0m\u001b[0;34m\u001b[0m\u001b[0m\n\u001b[0m",
            "\u001b[0;32m/usr/local/lib/python3.7/dist-packages/seaborn/_decorators.py\u001b[0m in \u001b[0;36minner_f\u001b[0;34m(*args, **kwargs)\u001b[0m\n\u001b[1;32m     44\u001b[0m             )\n\u001b[1;32m     45\u001b[0m         \u001b[0mkwargs\u001b[0m\u001b[0;34m.\u001b[0m\u001b[0mupdate\u001b[0m\u001b[0;34m(\u001b[0m\u001b[0;34m{\u001b[0m\u001b[0mk\u001b[0m\u001b[0;34m:\u001b[0m \u001b[0marg\u001b[0m \u001b[0;32mfor\u001b[0m \u001b[0mk\u001b[0m\u001b[0;34m,\u001b[0m \u001b[0marg\u001b[0m \u001b[0;32min\u001b[0m \u001b[0mzip\u001b[0m\u001b[0;34m(\u001b[0m\u001b[0msig\u001b[0m\u001b[0;34m.\u001b[0m\u001b[0mparameters\u001b[0m\u001b[0;34m,\u001b[0m \u001b[0margs\u001b[0m\u001b[0;34m)\u001b[0m\u001b[0;34m}\u001b[0m\u001b[0;34m)\u001b[0m\u001b[0;34m\u001b[0m\u001b[0;34m\u001b[0m\u001b[0m\n\u001b[0;32m---> 46\u001b[0;31m         \u001b[0;32mreturn\u001b[0m \u001b[0mf\u001b[0m\u001b[0;34m(\u001b[0m\u001b[0;34m**\u001b[0m\u001b[0mkwargs\u001b[0m\u001b[0;34m)\u001b[0m\u001b[0;34m\u001b[0m\u001b[0;34m\u001b[0m\u001b[0m\n\u001b[0m\u001b[1;32m     47\u001b[0m     \u001b[0;32mreturn\u001b[0m \u001b[0minner_f\u001b[0m\u001b[0;34m\u001b[0m\u001b[0;34m\u001b[0m\u001b[0m\n\u001b[1;32m     48\u001b[0m \u001b[0;34m\u001b[0m\u001b[0m\n",
            "\u001b[0;32m/usr/local/lib/python3.7/dist-packages/seaborn/matrix.py\u001b[0m in \u001b[0;36mheatmap\u001b[0;34m(data, vmin, vmax, cmap, center, robust, annot, fmt, annot_kws, linewidths, linecolor, cbar, cbar_kws, cbar_ax, square, xticklabels, yticklabels, mask, ax, **kwargs)\u001b[0m\n\u001b[1;32m    540\u001b[0m     plotter = _HeatMapper(data, vmin, vmax, cmap, center, robust, annot, fmt,\n\u001b[1;32m    541\u001b[0m                           \u001b[0mannot_kws\u001b[0m\u001b[0;34m,\u001b[0m \u001b[0mcbar\u001b[0m\u001b[0;34m,\u001b[0m \u001b[0mcbar_kws\u001b[0m\u001b[0;34m,\u001b[0m \u001b[0mxticklabels\u001b[0m\u001b[0;34m,\u001b[0m\u001b[0;34m\u001b[0m\u001b[0;34m\u001b[0m\u001b[0m\n\u001b[0;32m--> 542\u001b[0;31m                           yticklabels, mask)\n\u001b[0m\u001b[1;32m    543\u001b[0m \u001b[0;34m\u001b[0m\u001b[0m\n\u001b[1;32m    544\u001b[0m     \u001b[0;31m# Add the pcolormesh kwargs here\u001b[0m\u001b[0;34m\u001b[0m\u001b[0;34m\u001b[0m\u001b[0;34m\u001b[0m\u001b[0m\n",
            "\u001b[0;32m/usr/local/lib/python3.7/dist-packages/seaborn/matrix.py\u001b[0m in \u001b[0;36m__init__\u001b[0;34m(self, data, vmin, vmax, cmap, center, robust, annot, fmt, annot_kws, cbar, cbar_kws, xticklabels, yticklabels, mask)\u001b[0m\n\u001b[1;32m    158\u001b[0m         \u001b[0;31m# Determine good default values for the colormapping\u001b[0m\u001b[0;34m\u001b[0m\u001b[0;34m\u001b[0m\u001b[0;34m\u001b[0m\u001b[0m\n\u001b[1;32m    159\u001b[0m         self._determine_cmap_params(plot_data, vmin, vmax,\n\u001b[0;32m--> 160\u001b[0;31m                                     cmap, center, robust)\n\u001b[0m\u001b[1;32m    161\u001b[0m \u001b[0;34m\u001b[0m\u001b[0m\n\u001b[1;32m    162\u001b[0m         \u001b[0;31m# Sort out the annotations\u001b[0m\u001b[0;34m\u001b[0m\u001b[0;34m\u001b[0m\u001b[0;34m\u001b[0m\u001b[0m\n",
            "\u001b[0;32m/usr/local/lib/python3.7/dist-packages/seaborn/matrix.py\u001b[0m in \u001b[0;36m_determine_cmap_params\u001b[0;34m(self, plot_data, vmin, vmax, cmap, center, robust)\u001b[0m\n\u001b[1;32m    196\u001b[0m                 \u001b[0mvmin\u001b[0m \u001b[0;34m=\u001b[0m \u001b[0mnp\u001b[0m\u001b[0;34m.\u001b[0m\u001b[0mnanpercentile\u001b[0m\u001b[0;34m(\u001b[0m\u001b[0mcalc_data\u001b[0m\u001b[0;34m,\u001b[0m \u001b[0;36m2\u001b[0m\u001b[0;34m)\u001b[0m\u001b[0;34m\u001b[0m\u001b[0;34m\u001b[0m\u001b[0m\n\u001b[1;32m    197\u001b[0m             \u001b[0;32melse\u001b[0m\u001b[0;34m:\u001b[0m\u001b[0;34m\u001b[0m\u001b[0;34m\u001b[0m\u001b[0m\n\u001b[0;32m--> 198\u001b[0;31m                 \u001b[0mvmin\u001b[0m \u001b[0;34m=\u001b[0m \u001b[0mnp\u001b[0m\u001b[0;34m.\u001b[0m\u001b[0mnanmin\u001b[0m\u001b[0;34m(\u001b[0m\u001b[0mcalc_data\u001b[0m\u001b[0;34m)\u001b[0m\u001b[0;34m\u001b[0m\u001b[0;34m\u001b[0m\u001b[0m\n\u001b[0m\u001b[1;32m    199\u001b[0m         \u001b[0;32mif\u001b[0m \u001b[0mvmax\u001b[0m \u001b[0;32mis\u001b[0m \u001b[0;32mNone\u001b[0m\u001b[0;34m:\u001b[0m\u001b[0;34m\u001b[0m\u001b[0;34m\u001b[0m\u001b[0m\n\u001b[1;32m    200\u001b[0m             \u001b[0;32mif\u001b[0m \u001b[0mrobust\u001b[0m\u001b[0;34m:\u001b[0m\u001b[0;34m\u001b[0m\u001b[0;34m\u001b[0m\u001b[0m\n",
            "\u001b[0;32m<__array_function__ internals>\u001b[0m in \u001b[0;36mnanmin\u001b[0;34m(*args, **kwargs)\u001b[0m\n",
            "\u001b[0;32m/usr/local/lib/python3.7/dist-packages/numpy/lib/nanfunctions.py\u001b[0m in \u001b[0;36mnanmin\u001b[0;34m(a, axis, out, keepdims)\u001b[0m\n\u001b[1;32m    317\u001b[0m         \u001b[0;31m# Fast, but not safe for subclasses of ndarray, or object arrays,\u001b[0m\u001b[0;34m\u001b[0m\u001b[0;34m\u001b[0m\u001b[0;34m\u001b[0m\u001b[0m\n\u001b[1;32m    318\u001b[0m         \u001b[0;31m# which do not implement isnan (gh-9009), or fmin correctly (gh-8975)\u001b[0m\u001b[0;34m\u001b[0m\u001b[0;34m\u001b[0m\u001b[0;34m\u001b[0m\u001b[0m\n\u001b[0;32m--> 319\u001b[0;31m         \u001b[0mres\u001b[0m \u001b[0;34m=\u001b[0m \u001b[0mnp\u001b[0m\u001b[0;34m.\u001b[0m\u001b[0mfmin\u001b[0m\u001b[0;34m.\u001b[0m\u001b[0mreduce\u001b[0m\u001b[0;34m(\u001b[0m\u001b[0ma\u001b[0m\u001b[0;34m,\u001b[0m \u001b[0maxis\u001b[0m\u001b[0;34m=\u001b[0m\u001b[0maxis\u001b[0m\u001b[0;34m,\u001b[0m \u001b[0mout\u001b[0m\u001b[0;34m=\u001b[0m\u001b[0mout\u001b[0m\u001b[0;34m,\u001b[0m \u001b[0;34m**\u001b[0m\u001b[0mkwargs\u001b[0m\u001b[0;34m)\u001b[0m\u001b[0;34m\u001b[0m\u001b[0;34m\u001b[0m\u001b[0m\n\u001b[0m\u001b[1;32m    320\u001b[0m         \u001b[0;32mif\u001b[0m \u001b[0mnp\u001b[0m\u001b[0;34m.\u001b[0m\u001b[0misnan\u001b[0m\u001b[0;34m(\u001b[0m\u001b[0mres\u001b[0m\u001b[0;34m)\u001b[0m\u001b[0;34m.\u001b[0m\u001b[0many\u001b[0m\u001b[0;34m(\u001b[0m\u001b[0;34m)\u001b[0m\u001b[0;34m:\u001b[0m\u001b[0;34m\u001b[0m\u001b[0;34m\u001b[0m\u001b[0m\n\u001b[1;32m    321\u001b[0m             warnings.warn(\"All-NaN slice encountered\", RuntimeWarning,\n",
            "\u001b[0;31mValueError\u001b[0m: zero-size array to reduction operation fmin which has no identity"
          ]
        },
        {
          "output_type": "display_data",
          "data": {
            "text/plain": [
              "<Figure size 720x432 with 0 Axes>"
            ]
          },
          "metadata": {}
        }
      ]
    },
    {
      "cell_type": "code",
      "source": [
        "l = data.columns.values\n",
        "number_of_columns=8\n",
        "number_of_rows = len(l)-1/number_of_columns\n",
        "plt.figure(figsize=(number_of_columns,5*number_of_rows))\n",
        "for i in range(0,len(l)):\n",
        "    plt.subplot(number_of_rows + 1,number_of_columns,i+1)\n",
        "    sns.set_style('whitegrid')\n",
        "    sns.boxplot(data[l[i]],color='green',orient='v')\n",
        "    plt.tight_layout()"
      ],
      "metadata": {
        "colab": {
          "base_uri": "https://localhost:8080/",
          "height": 860
        },
        "id": "wcIu6BG9ZjDi",
        "outputId": "fe112c40-b75e-4ebd-a233-3e8bebb8f191"
      },
      "execution_count": null,
      "outputs": [
        {
          "output_type": "stream",
          "name": "stderr",
          "text": [
            "/usr/local/lib/python3.7/dist-packages/seaborn/_decorators.py:43: FutureWarning: Pass the following variable as a keyword arg: x. From version 0.12, the only valid positional argument will be `data`, and passing other arguments without an explicit keyword will result in an error or misinterpretation.\n",
            "  FutureWarning\n",
            "/usr/local/lib/python3.7/dist-packages/seaborn/_core.py:1326: UserWarning: Vertical orientation ignored with only `x` specified.\n",
            "  warnings.warn(single_var_warning.format(\"Vertical\", \"x\"))\n",
            "/usr/local/lib/python3.7/dist-packages/ipykernel_launcher.py:9: UserWarning: Tight layout not applied. tight_layout cannot make axes width small enough to accommodate all axes decorations\n",
            "  if __name__ == '__main__':\n"
          ]
        },
        {
          "output_type": "display_data",
          "data": {
            "text/plain": [
              "<Figure size 576x4635 with 13 Axes>"
            ],
            "image/png": "[encoded data removed]"
          },
          "metadata": {
            "needs_background": "light"
          }
        }
      ]
    },
    {
      "cell_type": "code",
      "source": [
        "plt.figure(figsize=(2*number_of_columns,5*number_of_rows))\n",
        "for i in range(0,len(l)):\n",
        "    plt.subplot(number_of_rows + 1,number_of_columns,i+1)\n",
        "    sns.distplot(data[l[i]],kde=True)"
      ],
      "metadata": {
        "colab": {
          "base_uri": "https://localhost:8080/",
          "height": 721
        },
        "id": "zUCO0ZCqZodk",
        "outputId": "6a5ea7c8-6e75-47bb-c798-a4b862d29d2a"
      },
      "execution_count": null,
      "outputs": [
        {
          "output_type": "stream",
          "name": "stderr",
          "text": [
            "/usr/local/lib/python3.7/dist-packages/seaborn/distributions.py:2619: FutureWarning: `distplot` is a deprecated function and will be removed in a future version. Please adapt your code to use either `displot` (a figure-level function with similar flexibility) or `histplot` (an axes-level function for histograms).\n",
            "  warnings.warn(msg, FutureWarning)\n",
            "/usr/local/lib/python3.7/dist-packages/seaborn/distributions.py:2657: RuntimeWarning: Mean of empty slice.\n",
            "  line, = ax.plot(a.mean(), 0)\n",
            "/usr/local/lib/python3.7/dist-packages/numpy/core/_methods.py:189: RuntimeWarning: invalid value encountered in double_scalars\n",
            "  ret = ret.dtype.type(ret / rcount)\n",
            "/usr/local/lib/python3.7/dist-packages/numpy/lib/histograms.py:906: RuntimeWarning: invalid value encountered in true_divide\n",
            "  return n/db/n.sum(), bin_edges\n"
          ]
        },
        {
          "output_type": "display_data",
          "data": {
            "text/plain": [
              "<Figure size 1152x4635 with 13 Axes>"
            ],
            "image/png": "[encoded data removed]"
          },
          "metadata": {}
        }
      ]
    },
    {
      "cell_type": "code",
      "source": [],
      "metadata": {
        "id": "3IKefUnQkj3y"
      },
      "execution_count": null,
      "outputs": []
    }
  ]
}